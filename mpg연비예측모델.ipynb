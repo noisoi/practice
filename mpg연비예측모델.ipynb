{
 "cells": [
  {
   "cell_type": "code",
   "execution_count": 48,
   "metadata": {},
   "outputs": [
    {
     "name": "stdout",
     "output_type": "stream",
     "text": [
      "^C\n"
     ]
    }
   ],
   "source": [
    "!pip uninstall numpy"
   ]
  },
  {
   "cell_type": "code",
   "execution_count": 49,
   "metadata": {},
   "outputs": [
    {
     "name": "stdout",
     "output_type": "stream",
     "text": [
      "Requirement already satisfied: seaborn in c:\\shson\\anaconda3\\lib\\site-packages (0.11.2)\n",
      "Collecting seaborn\n",
      "  Downloading seaborn-0.13.2-py3-none-any.whl (294 kB)\n",
      "Requirement already satisfied: numpy!=1.24.0,>=1.20 in c:\\shson\\anaconda3\\lib\\site-packages (from seaborn) (1.26.4)\n",
      "Requirement already satisfied: pandas>=1.2 in c:\\shson\\anaconda3\\lib\\site-packages (from seaborn) (1.4.2)\n",
      "Requirement already satisfied: matplotlib!=3.6.1,>=3.4 in c:\\shson\\anaconda3\\lib\\site-packages (from seaborn) (3.5.1)\n",
      "Requirement already satisfied: cycler>=0.10 in c:\\shson\\anaconda3\\lib\\site-packages (from matplotlib!=3.6.1,>=3.4->seaborn) (0.11.0)\n",
      "Requirement already satisfied: python-dateutil>=2.7 in c:\\shson\\anaconda3\\lib\\site-packages (from matplotlib!=3.6.1,>=3.4->seaborn) (2.8.2)\n",
      "Requirement already satisfied: kiwisolver>=1.0.1 in c:\\shson\\anaconda3\\lib\\site-packages (from matplotlib!=3.6.1,>=3.4->seaborn) (1.3.2)\n",
      "Requirement already satisfied: fonttools>=4.22.0 in c:\\shson\\anaconda3\\lib\\site-packages (from matplotlib!=3.6.1,>=3.4->seaborn) (4.25.0)\n",
      "Requirement already satisfied: pyparsing>=2.2.1 in c:\\shson\\anaconda3\\lib\\site-packages (from matplotlib!=3.6.1,>=3.4->seaborn) (3.0.4)\n",
      "Requirement already satisfied: pillow>=6.2.0 in c:\\shson\\anaconda3\\lib\\site-packages (from matplotlib!=3.6.1,>=3.4->seaborn) (9.0.1)\n",
      "Requirement already satisfied: packaging>=20.0 in c:\\shson\\anaconda3\\lib\\site-packages (from matplotlib!=3.6.1,>=3.4->seaborn) (21.3)\n",
      "Requirement already satisfied: pytz>=2020.1 in c:\\shson\\anaconda3\\lib\\site-packages (from pandas>=1.2->seaborn) (2021.3)\n",
      "Requirement already satisfied: six>=1.5 in c:\\shson\\anaconda3\\lib\\site-packages (from python-dateutil>=2.7->matplotlib!=3.6.1,>=3.4->seaborn) (1.16.0)\n",
      "Installing collected packages: seaborn\n",
      "  Attempting uninstall: seaborn\n",
      "    Found existing installation: seaborn 0.11.2\n",
      "    Uninstalling seaborn-0.11.2:\n",
      "      Successfully uninstalled seaborn-0.11.2\n",
      "Successfully installed seaborn-0.13.2\n"
     ]
    }
   ],
   "source": [
    "!pip install --upgrade seaborn"
   ]
  },
  {
   "cell_type": "code",
   "execution_count": 1,
   "metadata": {},
   "outputs": [],
   "source": [
    "# 필요한 라이브러리 임포트하기\n",
    "\n",
    "import warnings\n",
    "warnings.simplefilter('ignore')\n",
    "import matplotlib.pyplot as plt\n",
    "import pandas as pd\n",
    "import numpy as np\n",
    "import seaborn as sns"
   ]
  },
  {
   "cell_type": "code",
   "execution_count": 2,
   "metadata": {},
   "outputs": [
    {
     "data": {
      "text/html": [
       "<div>\n",
       "<style scoped>\n",
       "    .dataframe tbody tr th:only-of-type {\n",
       "        vertical-align: middle;\n",
       "    }\n",
       "\n",
       "    .dataframe tbody tr th {\n",
       "        vertical-align: top;\n",
       "    }\n",
       "\n",
       "    .dataframe thead th {\n",
       "        text-align: right;\n",
       "    }\n",
       "</style>\n",
       "<table border=\"1\" class=\"dataframe\">\n",
       "  <thead>\n",
       "    <tr style=\"text-align: right;\">\n",
       "      <th></th>\n",
       "      <th>mpg</th>\n",
       "      <th>cylinders</th>\n",
       "      <th>displacement</th>\n",
       "      <th>horsepower</th>\n",
       "      <th>weight</th>\n",
       "      <th>acceleration</th>\n",
       "      <th>model year</th>\n",
       "      <th>origin</th>\n",
       "      <th>car name</th>\n",
       "    </tr>\n",
       "  </thead>\n",
       "  <tbody>\n",
       "    <tr>\n",
       "      <th>0</th>\n",
       "      <td>18.0</td>\n",
       "      <td>8</td>\n",
       "      <td>307.0</td>\n",
       "      <td>130</td>\n",
       "      <td>3504</td>\n",
       "      <td>12.0</td>\n",
       "      <td>70</td>\n",
       "      <td>1</td>\n",
       "      <td>chevrolet chevelle malibu</td>\n",
       "    </tr>\n",
       "    <tr>\n",
       "      <th>1</th>\n",
       "      <td>15.0</td>\n",
       "      <td>8</td>\n",
       "      <td>350.0</td>\n",
       "      <td>165</td>\n",
       "      <td>3693</td>\n",
       "      <td>11.5</td>\n",
       "      <td>70</td>\n",
       "      <td>1</td>\n",
       "      <td>buick skylark 320</td>\n",
       "    </tr>\n",
       "    <tr>\n",
       "      <th>2</th>\n",
       "      <td>18.0</td>\n",
       "      <td>8</td>\n",
       "      <td>318.0</td>\n",
       "      <td>150</td>\n",
       "      <td>3436</td>\n",
       "      <td>11.0</td>\n",
       "      <td>70</td>\n",
       "      <td>1</td>\n",
       "      <td>plymouth satellite</td>\n",
       "    </tr>\n",
       "    <tr>\n",
       "      <th>3</th>\n",
       "      <td>16.0</td>\n",
       "      <td>8</td>\n",
       "      <td>304.0</td>\n",
       "      <td>150</td>\n",
       "      <td>3433</td>\n",
       "      <td>12.0</td>\n",
       "      <td>70</td>\n",
       "      <td>1</td>\n",
       "      <td>amc rebel sst</td>\n",
       "    </tr>\n",
       "    <tr>\n",
       "      <th>4</th>\n",
       "      <td>17.0</td>\n",
       "      <td>8</td>\n",
       "      <td>302.0</td>\n",
       "      <td>140</td>\n",
       "      <td>3449</td>\n",
       "      <td>10.5</td>\n",
       "      <td>70</td>\n",
       "      <td>1</td>\n",
       "      <td>ford torino</td>\n",
       "    </tr>\n",
       "    <tr>\n",
       "      <th>...</th>\n",
       "      <td>...</td>\n",
       "      <td>...</td>\n",
       "      <td>...</td>\n",
       "      <td>...</td>\n",
       "      <td>...</td>\n",
       "      <td>...</td>\n",
       "      <td>...</td>\n",
       "      <td>...</td>\n",
       "      <td>...</td>\n",
       "    </tr>\n",
       "    <tr>\n",
       "      <th>393</th>\n",
       "      <td>27.0</td>\n",
       "      <td>4</td>\n",
       "      <td>140.0</td>\n",
       "      <td>86</td>\n",
       "      <td>2790</td>\n",
       "      <td>15.6</td>\n",
       "      <td>82</td>\n",
       "      <td>1</td>\n",
       "      <td>ford mustang gl</td>\n",
       "    </tr>\n",
       "    <tr>\n",
       "      <th>394</th>\n",
       "      <td>44.0</td>\n",
       "      <td>4</td>\n",
       "      <td>97.0</td>\n",
       "      <td>52</td>\n",
       "      <td>2130</td>\n",
       "      <td>24.6</td>\n",
       "      <td>82</td>\n",
       "      <td>2</td>\n",
       "      <td>vw pickup</td>\n",
       "    </tr>\n",
       "    <tr>\n",
       "      <th>395</th>\n",
       "      <td>32.0</td>\n",
       "      <td>4</td>\n",
       "      <td>135.0</td>\n",
       "      <td>84</td>\n",
       "      <td>2295</td>\n",
       "      <td>11.6</td>\n",
       "      <td>82</td>\n",
       "      <td>1</td>\n",
       "      <td>dodge rampage</td>\n",
       "    </tr>\n",
       "    <tr>\n",
       "      <th>396</th>\n",
       "      <td>28.0</td>\n",
       "      <td>4</td>\n",
       "      <td>120.0</td>\n",
       "      <td>79</td>\n",
       "      <td>2625</td>\n",
       "      <td>18.6</td>\n",
       "      <td>82</td>\n",
       "      <td>1</td>\n",
       "      <td>ford ranger</td>\n",
       "    </tr>\n",
       "    <tr>\n",
       "      <th>397</th>\n",
       "      <td>31.0</td>\n",
       "      <td>4</td>\n",
       "      <td>119.0</td>\n",
       "      <td>82</td>\n",
       "      <td>2720</td>\n",
       "      <td>19.4</td>\n",
       "      <td>82</td>\n",
       "      <td>1</td>\n",
       "      <td>chevy s-10</td>\n",
       "    </tr>\n",
       "  </tbody>\n",
       "</table>\n",
       "<p>398 rows × 9 columns</p>\n",
       "</div>"
      ],
      "text/plain": [
       "      mpg  cylinders  displacement horsepower  weight  acceleration  \\\n",
       "0    18.0          8         307.0        130    3504          12.0   \n",
       "1    15.0          8         350.0        165    3693          11.5   \n",
       "2    18.0          8         318.0        150    3436          11.0   \n",
       "3    16.0          8         304.0        150    3433          12.0   \n",
       "4    17.0          8         302.0        140    3449          10.5   \n",
       "..    ...        ...           ...        ...     ...           ...   \n",
       "393  27.0          4         140.0         86    2790          15.6   \n",
       "394  44.0          4          97.0         52    2130          24.6   \n",
       "395  32.0          4         135.0         84    2295          11.6   \n",
       "396  28.0          4         120.0         79    2625          18.6   \n",
       "397  31.0          4         119.0         82    2720          19.4   \n",
       "\n",
       "     model year  origin                   car name  \n",
       "0            70       1  chevrolet chevelle malibu  \n",
       "1            70       1          buick skylark 320  \n",
       "2            70       1         plymouth satellite  \n",
       "3            70       1              amc rebel sst  \n",
       "4            70       1                ford torino  \n",
       "..          ...     ...                        ...  \n",
       "393          82       1            ford mustang gl  \n",
       "394          82       2                  vw pickup  \n",
       "395          82       1              dodge rampage  \n",
       "396          82       1                ford ranger  \n",
       "397          82       1                 chevy s-10  \n",
       "\n",
       "[398 rows x 9 columns]"
      ]
     },
     "execution_count": 2,
     "metadata": {},
     "output_type": "execute_result"
    }
   ],
   "source": [
    "# 데이터 준비\n",
    "\n",
    "mpg = pd.read_csv(\"archive/auto-mpg.csv\")\n",
    "mpg"
   ]
  },
  {
   "cell_type": "code",
   "execution_count": 3,
   "metadata": {},
   "outputs": [
    {
     "name": "stdout",
     "output_type": "stream",
     "text": [
      "<class 'pandas.core.frame.DataFrame'>\n",
      "RangeIndex: 398 entries, 0 to 397\n",
      "Data columns (total 9 columns):\n",
      " #   Column        Non-Null Count  Dtype  \n",
      "---  ------        --------------  -----  \n",
      " 0   mpg           398 non-null    float64\n",
      " 1   cylinders     398 non-null    int64  \n",
      " 2   displacement  398 non-null    float64\n",
      " 3   horsepower    398 non-null    object \n",
      " 4   weight        398 non-null    int64  \n",
      " 5   acceleration  398 non-null    float64\n",
      " 6   model year    398 non-null    int64  \n",
      " 7   origin        398 non-null    int64  \n",
      " 8   car name      398 non-null    object \n",
      "dtypes: float64(3), int64(4), object(2)\n",
      "memory usage: 28.1+ KB\n"
     ]
    }
   ],
   "source": [
    "mpg.info()"
   ]
  },
  {
   "cell_type": "code",
   "execution_count": 4,
   "metadata": {},
   "outputs": [
    {
     "data": {
      "text/plain": [
       "(398, 9)"
      ]
     },
     "execution_count": 4,
     "metadata": {},
     "output_type": "execute_result"
    }
   ],
   "source": [
    "mpg.shape"
   ]
  },
  {
   "cell_type": "code",
   "execution_count": 5,
   "metadata": {},
   "outputs": [
    {
     "name": "stdout",
     "output_type": "stream",
     "text": [
      "[18.  15.  16.  17.  14.  24.  22.  21.  27.  26.  25.  10.  11.   9.\n",
      " 28.  19.  12.  13.  23.  30.  31.  35.  20.  29.  32.  33.  17.5 15.5\n",
      " 14.5 22.5 24.5 18.5 29.5 26.5 16.5 31.5 36.  25.5 33.5 20.5 30.5 21.5\n",
      " 43.1 36.1 32.8 39.4 19.9 19.4 20.2 19.2 25.1 20.6 20.8 18.6 18.1 17.7\n",
      " 27.5 27.2 30.9 21.1 23.2 23.8 23.9 20.3 21.6 16.2 19.8 22.3 17.6 18.2\n",
      " 16.9 31.9 34.1 35.7 27.4 25.4 34.2 34.5 31.8 37.3 28.4 28.8 26.8 41.5\n",
      " 38.1 32.1 37.2 26.4 24.3 19.1 34.3 29.8 31.3 37.  32.2 46.6 27.9 40.8\n",
      " 44.3 43.4 36.4 44.6 40.9 33.8 32.7 23.7 23.6 32.4 26.6 25.8 23.5 39.1\n",
      " 39.  35.1 32.3 37.7 34.7 34.4 29.9 33.7 32.9 31.6 28.1 30.7 24.2 22.4\n",
      " 34.  38.  44. ]\n",
      "\n",
      "[8 4 6 3 5]\n",
      "\n",
      "[307.  350.  318.  304.  302.  429.  454.  440.  455.  390.  383.  340.\n",
      " 400.  113.  198.  199.  200.   97.  110.  107.  104.  121.  360.  140.\n",
      "  98.  232.  225.  250.  351.  258.  122.  116.   79.   88.   71.   72.\n",
      "  91.   97.5  70.  120.   96.  108.  155.   68.  114.  156.   76.   83.\n",
      "  90.  231.  262.  134.  119.  171.  115.  101.  305.   85.  130.  168.\n",
      " 111.  260.  151.  146.   80.   78.  105.  131.  163.   89.  267.   86.\n",
      " 183.  141.  173.  135.   81.  100.  145.  112.  181.  144. ]\n",
      "\n",
      "['130' '165' '150' '140' '198' '220' '215' '225' '190' '170' '160' '95'\n",
      " '97' '85' '88' '46' '87' '90' '113' '200' '210' '193' '?' '100' '105'\n",
      " '175' '153' '180' '110' '72' '86' '70' '76' '65' '69' '60' '80' '54'\n",
      " '208' '155' '112' '92' '145' '137' '158' '167' '94' '107' '230' '49' '75'\n",
      " '91' '122' '67' '83' '78' '52' '61' '93' '148' '129' '96' '71' '98' '115'\n",
      " '53' '81' '79' '120' '152' '102' '108' '68' '58' '149' '89' '63' '48'\n",
      " '66' '139' '103' '125' '133' '138' '135' '142' '77' '62' '132' '84' '64'\n",
      " '74' '116' '82']\n",
      "\n",
      "[3504 3693 3436 3433 3449 4341 4354 4312 4425 3850 3563 3609 3761 3086\n",
      " 2372 2833 2774 2587 2130 1835 2672 2430 2375 2234 2648 4615 4376 4382\n",
      " 4732 2264 2228 2046 2634 3439 3329 3302 3288 4209 4464 4154 4096 4955\n",
      " 4746 5140 2962 2408 3282 3139 2220 2123 2074 2065 1773 1613 1834 1955\n",
      " 2278 2126 2254 2226 4274 4385 4135 4129 3672 4633 4502 4456 4422 2330\n",
      " 3892 4098 4294 4077 2933 2511 2979 2189 2395 2288 2506 2164 2100 4100\n",
      " 3988 4042 3777 4952 4363 4237 4735 4951 3821 3121 3278 2945 3021 2904\n",
      " 1950 4997 4906 4654 4499 2789 2279 2401 2379 2124 2310 2472 2265 4082\n",
      " 4278 1867 2158 2582 2868 3399 2660 2807 3664 3102 2875 2901 3336 2451\n",
      " 1836 2542 3781 3632 3613 4141 4699 4457 4638 4257 2219 1963 2300 1649\n",
      " 2003 2125 2108 2246 2489 2391 2000 3264 3459 3432 3158 4668 4440 4498\n",
      " 4657 3907 3897 3730 3785 3039 3221 3169 2171 2639 2914 2592 2702 2223\n",
      " 2545 2984 1937 3211 2694 2957 2671 1795 2464 2572 2255 2202 4215 4190\n",
      " 3962 3233 3353 3012 3085 2035 3651 3574 3645 3193 1825 1990 2155 2565\n",
      " 3150 3940 3270 2930 3820 4380 4055 3870 3755 2045 1945 3880 4060 4140\n",
      " 4295 3520 3425 3630 3525 4220 4165 4325 4335 1940 2740 2755 2051 2075\n",
      " 1985 2190 2815 2600 2720 1800 2070 3365 3735 3570 3535 3155 2965 3430\n",
      " 3210 3380 3070 3620 3410 3445 3205 4080 2560 2230 2515 2745 2855 2405\n",
      " 2830 3140 2795 2135 3245 2990 2890 3265 3360 3840 3725 3955 3830 4360\n",
      " 4054 3605 1925 1975 1915 2670 3530 3900 3190 3420 2200 2150 2020 2595\n",
      " 2700 2556 2144 1968 2120 2019 2678 2870 3003 3381 2188 2711 2434 2110\n",
      " 2800 2085 2335 2950 3250 1850 2145 1845 2910 2420 2500 2905 2290 2490\n",
      " 2635 2620 2725 2385 1755 1875 1760 2050 2215 2380 2320 2210 2350 2615\n",
      " 3230 3160 2900 3415 3060 3465 2605 2640 2575 2525 2735 2865 3035 1980\n",
      " 2025 1970 2160 2205 2245 1965 1995 3015 2585 2835 2665 2370 2790 2295\n",
      " 2625]\n",
      "\n",
      "[12.  11.5 11.  10.5 10.   9.   8.5  8.   9.5 15.  15.5 16.  14.5 20.5\n",
      " 17.5 12.5 14.  13.5 18.5 19.  13.  19.5 18.  17.  23.5 16.5 21.  16.9\n",
      " 14.9 17.7 15.3 13.9 12.8 15.4 17.6 22.2 22.1 14.2 17.4 16.2 17.8 12.2\n",
      " 16.4 13.6 15.7 13.2 21.9 16.7 12.1 14.8 18.6 16.8 13.7 11.1 11.4 18.2\n",
      " 15.8 15.9 14.1 21.5 14.4 19.4 19.2 17.2 18.7 15.1 13.4 11.2 14.7 16.6\n",
      " 17.3 15.2 14.3 20.1 24.8 11.3 12.9 18.8 18.1 17.9 21.7 23.7 19.9 21.8\n",
      " 13.8 12.6 16.1 20.7 18.3 20.4 19.6 17.1 15.6 24.6 11.6]\n",
      "\n",
      "[70 71 72 73 74 75 76 77 78 79 80 81 82]\n",
      "\n",
      "[1 3 2]\n",
      "\n",
      "['chevrolet chevelle malibu' 'buick skylark 320' 'plymouth satellite'\n",
      " 'amc rebel sst' 'ford torino' 'ford galaxie 500' 'chevrolet impala'\n",
      " 'plymouth fury iii' 'pontiac catalina' 'amc ambassador dpl'\n",
      " 'dodge challenger se' \"plymouth 'cuda 340\" 'chevrolet monte carlo'\n",
      " 'buick estate wagon (sw)' 'toyota corona mark ii' 'plymouth duster'\n",
      " 'amc hornet' 'ford maverick' 'datsun pl510'\n",
      " 'volkswagen 1131 deluxe sedan' 'peugeot 504' 'audi 100 ls' 'saab 99e'\n",
      " 'bmw 2002' 'amc gremlin' 'ford f250' 'chevy c20' 'dodge d200' 'hi 1200d'\n",
      " 'chevrolet vega 2300' 'toyota corona' 'ford pinto'\n",
      " 'plymouth satellite custom' 'ford torino 500' 'amc matador'\n",
      " 'pontiac catalina brougham' 'dodge monaco (sw)'\n",
      " 'ford country squire (sw)' 'pontiac safari (sw)'\n",
      " 'amc hornet sportabout (sw)' 'chevrolet vega (sw)' 'pontiac firebird'\n",
      " 'ford mustang' 'mercury capri 2000' 'opel 1900' 'peugeot 304' 'fiat 124b'\n",
      " 'toyota corolla 1200' 'datsun 1200' 'volkswagen model 111'\n",
      " 'plymouth cricket' 'toyota corona hardtop' 'dodge colt hardtop'\n",
      " 'volkswagen type 3' 'chevrolet vega' 'ford pinto runabout'\n",
      " 'amc ambassador sst' 'mercury marquis' 'buick lesabre custom'\n",
      " 'oldsmobile delta 88 royale' 'chrysler newport royal' 'mazda rx2 coupe'\n",
      " 'amc matador (sw)' 'chevrolet chevelle concours (sw)'\n",
      " 'ford gran torino (sw)' 'plymouth satellite custom (sw)'\n",
      " 'volvo 145e (sw)' 'volkswagen 411 (sw)' 'peugeot 504 (sw)'\n",
      " 'renault 12 (sw)' 'ford pinto (sw)' 'datsun 510 (sw)'\n",
      " 'toyouta corona mark ii (sw)' 'dodge colt (sw)'\n",
      " 'toyota corolla 1600 (sw)' 'buick century 350' 'chevrolet malibu'\n",
      " 'ford gran torino' 'dodge coronet custom' 'mercury marquis brougham'\n",
      " 'chevrolet caprice classic' 'ford ltd' 'plymouth fury gran sedan'\n",
      " 'chrysler new yorker brougham' 'buick electra 225 custom'\n",
      " 'amc ambassador brougham' 'plymouth valiant' 'chevrolet nova custom'\n",
      " 'volkswagen super beetle' 'ford country' 'plymouth custom suburb'\n",
      " 'oldsmobile vista cruiser' 'toyota carina' 'datsun 610' 'maxda rx3'\n",
      " 'mercury capri v6' 'fiat 124 sport coupe' 'chevrolet monte carlo s'\n",
      " 'pontiac grand prix' 'fiat 128' 'opel manta' 'audi 100ls' 'volvo 144ea'\n",
      " 'dodge dart custom' 'saab 99le' 'toyota mark ii' 'oldsmobile omega'\n",
      " 'chevrolet nova' 'datsun b210' 'chevrolet chevelle malibu classic'\n",
      " 'plymouth satellite sebring' 'buick century luxus (sw)'\n",
      " 'dodge coronet custom (sw)' 'audi fox' 'volkswagen dasher' 'datsun 710'\n",
      " 'dodge colt' 'fiat 124 tc' 'honda civic' 'subaru' 'fiat x1.9'\n",
      " 'plymouth valiant custom' 'mercury monarch' 'chevrolet bel air'\n",
      " 'plymouth grand fury' 'buick century' 'chevroelt chevelle malibu'\n",
      " 'plymouth fury' 'buick skyhawk' 'chevrolet monza 2+2' 'ford mustang ii'\n",
      " 'toyota corolla' 'pontiac astro' 'volkswagen rabbit' 'amc pacer'\n",
      " 'volvo 244dl' 'honda civic cvcc' 'fiat 131' 'capri ii' 'renault 12tl'\n",
      " 'dodge coronet brougham' 'chevrolet chevette' 'chevrolet woody'\n",
      " 'vw rabbit' 'dodge aspen se' 'ford granada ghia' 'pontiac ventura sj'\n",
      " 'amc pacer d/l' 'datsun b-210' 'volvo 245' 'plymouth volare premier v8'\n",
      " 'mercedes-benz 280s' 'cadillac seville' 'chevy c10' 'ford f108'\n",
      " 'dodge d100' 'honda accord cvcc' 'buick opel isuzu deluxe'\n",
      " 'renault 5 gtl' 'plymouth arrow gs' 'datsun f-10 hatchback'\n",
      " 'oldsmobile cutlass supreme' 'dodge monaco brougham'\n",
      " 'mercury cougar brougham' 'chevrolet concours' 'buick skylark'\n",
      " 'plymouth volare custom' 'ford granada' 'pontiac grand prix lj'\n",
      " 'chevrolet monte carlo landau' 'chrysler cordoba' 'ford thunderbird'\n",
      " 'volkswagen rabbit custom' 'pontiac sunbird coupe'\n",
      " 'toyota corolla liftback' 'ford mustang ii 2+2' 'dodge colt m/m'\n",
      " 'subaru dl' 'datsun 810' 'bmw 320i' 'mazda rx-4'\n",
      " 'volkswagen rabbit custom diesel' 'ford fiesta' 'mazda glc deluxe'\n",
      " 'datsun b210 gx' 'oldsmobile cutlass salon brougham' 'dodge diplomat'\n",
      " 'mercury monarch ghia' 'pontiac phoenix lj' 'ford fairmont (auto)'\n",
      " 'ford fairmont (man)' 'plymouth volare' 'amc concord'\n",
      " 'buick century special' 'mercury zephyr' 'dodge aspen' 'amc concord d/l'\n",
      " 'buick regal sport coupe (turbo)' 'ford futura' 'dodge magnum xe'\n",
      " 'datsun 510' 'dodge omni' 'toyota celica gt liftback' 'plymouth sapporo'\n",
      " 'oldsmobile starfire sx' 'datsun 200-sx' 'audi 5000' 'volvo 264gl'\n",
      " 'saab 99gle' 'peugeot 604sl' 'volkswagen scirocco' 'honda accord lx'\n",
      " 'pontiac lemans v6' 'mercury zephyr 6' 'ford fairmont 4'\n",
      " 'amc concord dl 6' 'dodge aspen 6' 'ford ltd landau'\n",
      " 'mercury grand marquis' 'dodge st. regis' 'chevrolet malibu classic (sw)'\n",
      " 'chrysler lebaron town @ country (sw)' 'vw rabbit custom'\n",
      " 'maxda glc deluxe' 'dodge colt hatchback custom' 'amc spirit dl'\n",
      " 'mercedes benz 300d' 'cadillac eldorado' 'plymouth horizon'\n",
      " 'plymouth horizon tc3' 'datsun 210' 'fiat strada custom'\n",
      " 'buick skylark limited' 'chevrolet citation' 'oldsmobile omega brougham'\n",
      " 'pontiac phoenix' 'toyota corolla tercel' 'datsun 310' 'ford fairmont'\n",
      " 'audi 4000' 'toyota corona liftback' 'mazda 626' 'datsun 510 hatchback'\n",
      " 'mazda glc' 'vw rabbit c (diesel)' 'vw dasher (diesel)'\n",
      " 'audi 5000s (diesel)' 'mercedes-benz 240d' 'honda civic 1500 gl'\n",
      " 'renault lecar deluxe' 'vokswagen rabbit' 'datsun 280-zx' 'mazda rx-7 gs'\n",
      " 'triumph tr7 coupe' 'ford mustang cobra' 'honda accord'\n",
      " 'plymouth reliant' 'dodge aries wagon (sw)' 'toyota starlet'\n",
      " 'plymouth champ' 'honda civic 1300' 'datsun 210 mpg' 'toyota tercel'\n",
      " 'mazda glc 4' 'plymouth horizon 4' 'ford escort 4w' 'ford escort 2h'\n",
      " 'volkswagen jetta' 'renault 18i' 'honda prelude' 'datsun 200sx'\n",
      " 'peugeot 505s turbo diesel' 'volvo diesel' 'toyota cressida'\n",
      " 'datsun 810 maxima' 'oldsmobile cutlass ls' 'ford granada gl'\n",
      " 'chrysler lebaron salon' 'chevrolet cavalier' 'chevrolet cavalier wagon'\n",
      " 'chevrolet cavalier 2-door' 'pontiac j2000 se hatchback' 'dodge aries se'\n",
      " 'ford fairmont futura' 'amc concord dl' 'volkswagen rabbit l'\n",
      " 'mazda glc custom l' 'mazda glc custom' 'plymouth horizon miser'\n",
      " 'mercury lynx l' 'nissan stanza xe' 'honda civic (auto)' 'datsun 310 gx'\n",
      " 'buick century limited' 'oldsmobile cutlass ciera (diesel)'\n",
      " 'chrysler lebaron medallion' 'ford granada l' 'toyota celica gt'\n",
      " 'dodge charger 2.2' 'chevrolet camaro' 'ford mustang gl' 'vw pickup'\n",
      " 'dodge rampage' 'ford ranger' 'chevy s-10']\n",
      "\n"
     ]
    }
   ],
   "source": [
    "# 각 컬럼의 unique 값 확인하기\n",
    "\n",
    "for i in mpg.columns:\n",
    "    print(mpg[i].unique())\n",
    "    print()"
   ]
  },
  {
   "cell_type": "code",
   "execution_count": 22,
   "metadata": {},
   "outputs": [
    {
     "data": {
      "text/plain": [
       "0"
      ]
     },
     "execution_count": 22,
     "metadata": {},
     "output_type": "execute_result"
    }
   ],
   "source": [
    "# horsepower 컬럼의 '?'값을 결측치로 바꾸고 개수 확인하기\n",
    "\n",
    "mpg.horsepower.replace(\"?\",np.nan, inplace=True)\n",
    "mpg.horsepower.isnull().sum()"
   ]
  },
  {
   "cell_type": "code",
   "execution_count": 7,
   "metadata": {},
   "outputs": [],
   "source": [
    "# null값을 평균으로 바꿔주기\n",
    "\n",
    "tmp_horsepower = mpg.horsepower.dropna(axis=0)"
   ]
  },
  {
   "cell_type": "code",
   "execution_count": 8,
   "metadata": {},
   "outputs": [
    {
     "data": {
      "text/plain": [
       "(398, 9)"
      ]
     },
     "execution_count": 8,
     "metadata": {},
     "output_type": "execute_result"
    }
   ],
   "source": [
    "mpg.shape"
   ]
  },
  {
   "cell_type": "code",
   "execution_count": 9,
   "metadata": {},
   "outputs": [
    {
     "data": {
      "text/plain": [
       "(392,)"
      ]
     },
     "execution_count": 9,
     "metadata": {},
     "output_type": "execute_result"
    }
   ],
   "source": [
    "tmp_horsepower.shape"
   ]
  },
  {
   "cell_type": "code",
   "execution_count": 12,
   "metadata": {},
   "outputs": [
    {
     "name": "stdout",
     "output_type": "stream",
     "text": [
      "<class 'pandas.core.frame.DataFrame'>\n",
      "RangeIndex: 398 entries, 0 to 397\n",
      "Data columns (total 9 columns):\n",
      " #   Column        Non-Null Count  Dtype  \n",
      "---  ------        --------------  -----  \n",
      " 0   mpg           398 non-null    float64\n",
      " 1   cylinders     398 non-null    int64  \n",
      " 2   displacement  398 non-null    float64\n",
      " 3   horsepower    392 non-null    object \n",
      " 4   weight        398 non-null    int64  \n",
      " 5   acceleration  398 non-null    float64\n",
      " 6   model year    398 non-null    int64  \n",
      " 7   origin        398 non-null    int64  \n",
      " 8   car name      398 non-null    object \n",
      "dtypes: float64(3), int64(4), object(2)\n",
      "memory usage: 28.1+ KB\n"
     ]
    }
   ],
   "source": [
    "mpg.info()"
   ]
  },
  {
   "cell_type": "code",
   "execution_count": 10,
   "metadata": {},
   "outputs": [
    {
     "data": {
      "text/html": [
       "<div>\n",
       "<style scoped>\n",
       "    .dataframe tbody tr th:only-of-type {\n",
       "        vertical-align: middle;\n",
       "    }\n",
       "\n",
       "    .dataframe tbody tr th {\n",
       "        vertical-align: top;\n",
       "    }\n",
       "\n",
       "    .dataframe thead th {\n",
       "        text-align: right;\n",
       "    }\n",
       "</style>\n",
       "<table border=\"1\" class=\"dataframe\">\n",
       "  <thead>\n",
       "    <tr style=\"text-align: right;\">\n",
       "      <th></th>\n",
       "      <th>horsepower</th>\n",
       "    </tr>\n",
       "  </thead>\n",
       "  <tbody>\n",
       "    <tr>\n",
       "      <th>count</th>\n",
       "      <td>392.000000</td>\n",
       "    </tr>\n",
       "    <tr>\n",
       "      <th>mean</th>\n",
       "      <td>104.469388</td>\n",
       "    </tr>\n",
       "    <tr>\n",
       "      <th>std</th>\n",
       "      <td>38.491160</td>\n",
       "    </tr>\n",
       "    <tr>\n",
       "      <th>min</th>\n",
       "      <td>46.000000</td>\n",
       "    </tr>\n",
       "    <tr>\n",
       "      <th>25%</th>\n",
       "      <td>75.000000</td>\n",
       "    </tr>\n",
       "    <tr>\n",
       "      <th>50%</th>\n",
       "      <td>93.500000</td>\n",
       "    </tr>\n",
       "    <tr>\n",
       "      <th>75%</th>\n",
       "      <td>126.000000</td>\n",
       "    </tr>\n",
       "    <tr>\n",
       "      <th>max</th>\n",
       "      <td>230.000000</td>\n",
       "    </tr>\n",
       "  </tbody>\n",
       "</table>\n",
       "</div>"
      ],
      "text/plain": [
       "       horsepower\n",
       "count  392.000000\n",
       "mean   104.469388\n",
       "std     38.491160\n",
       "min     46.000000\n",
       "25%     75.000000\n",
       "50%     93.500000\n",
       "75%    126.000000\n",
       "max    230.000000"
      ]
     },
     "execution_count": 10,
     "metadata": {},
     "output_type": "execute_result"
    }
   ],
   "source": [
    "tmp_horsepower.astype(\"float\").describe().to_frame()"
   ]
  },
  {
   "cell_type": "code",
   "execution_count": 13,
   "metadata": {},
   "outputs": [
    {
     "data": {
      "text/plain": [
       "<AxesSubplot:ylabel='Density'>"
      ]
     },
     "execution_count": 13,
     "metadata": {},
     "output_type": "execute_result"
    },
    {
     "data": {
      "image/png": "[encoded data removed]",
      "text/plain": [
       "<Figure size 432x288 with 1 Axes>"
      ]
     },
     "metadata": {
      "needs_background": "light"
     },
     "output_type": "display_data"
    }
   ],
   "source": [
    "sns.distplot(mpg[['horsepower']])"
   ]
  },
  {
   "cell_type": "code",
   "execution_count": 15,
   "metadata": {},
   "outputs": [
    {
     "data": {
      "text/plain": [
       "1.507537688442211"
      ]
     },
     "execution_count": 15,
     "metadata": {},
     "output_type": "execute_result"
    }
   ],
   "source": [
    "# 결측치 퍼센트\n",
    "(mpg.horsepower.isnull().sum() / mpg.shape[0]) * 100"
   ]
  },
  {
   "cell_type": "code",
   "execution_count": 16,
   "metadata": {},
   "outputs": [],
   "source": [
    "# 결측치 처리(삭제)\n",
    "\n",
    "mpg.dropna(subset=['horsepower'], axis=0, inplace=True)"
   ]
  },
  {
   "cell_type": "code",
   "execution_count": 18,
   "metadata": {},
   "outputs": [
    {
     "data": {
      "text/plain": [
       "(392, 9)"
      ]
     },
     "execution_count": 18,
     "metadata": {},
     "output_type": "execute_result"
    }
   ],
   "source": [
    "mpg.shape"
   ]
  },
  {
   "cell_type": "code",
   "execution_count": 20,
   "metadata": {},
   "outputs": [],
   "source": [
    "# float 타입으로 바꾸기\n",
    "\n",
    "mpg['horsepower'] = mpg.horsepower.astype(\"float\")"
   ]
  },
  {
   "cell_type": "code",
   "execution_count": 21,
   "metadata": {},
   "outputs": [
    {
     "data": {
      "text/plain": [
       "dtype('float64')"
      ]
     },
     "execution_count": 21,
     "metadata": {},
     "output_type": "execute_result"
    }
   ],
   "source": [
    "mpg.horsepower.dtype"
   ]
  },
  {
   "cell_type": "code",
   "execution_count": 85,
   "metadata": {},
   "outputs": [
    {
     "name": "stdout",
     "output_type": "stream",
     "text": [
      "<class 'pandas.core.frame.DataFrame'>\n",
      "Int64Index: 392 entries, 0 to 397\n",
      "Data columns (total 9 columns):\n",
      " #   Column        Non-Null Count  Dtype  \n",
      "---  ------        --------------  -----  \n",
      " 0   mpg           392 non-null    float64\n",
      " 1   cylinders     392 non-null    int64  \n",
      " 2   displacement  392 non-null    float64\n",
      " 3   horsepower    392 non-null    float64\n",
      " 4   weight        392 non-null    int64  \n",
      " 5   acceleration  392 non-null    float64\n",
      " 6   model year    392 non-null    int64  \n",
      " 7   origin        392 non-null    int64  \n",
      " 8   car name      392 non-null    object \n",
      "dtypes: float64(4), int64(4), object(1)\n",
      "memory usage: 30.6+ KB\n"
     ]
    }
   ],
   "source": [
    "mpg.info()"
   ]
  },
  {
   "cell_type": "markdown",
   "metadata": {},
   "source": [
    "### 독립변수(X), 종속변수(y) 정하기\n",
    "\n",
    "- 독립변수: weight, horsepower, acceleration\n",
    "- 종속변수: mpg"
   ]
  },
  {
   "cell_type": "code",
   "execution_count": 149,
   "metadata": {},
   "outputs": [
    {
     "data": {
      "text/html": [
       "<div>\n",
       "<style scoped>\n",
       "    .dataframe tbody tr th:only-of-type {\n",
       "        vertical-align: middle;\n",
       "    }\n",
       "\n",
       "    .dataframe tbody tr th {\n",
       "        vertical-align: top;\n",
       "    }\n",
       "\n",
       "    .dataframe thead th {\n",
       "        text-align: right;\n",
       "    }\n",
       "</style>\n",
       "<table border=\"1\" class=\"dataframe\">\n",
       "  <thead>\n",
       "    <tr style=\"text-align: right;\">\n",
       "      <th></th>\n",
       "      <th>mpg</th>\n",
       "      <th>cylinders</th>\n",
       "      <th>displacement</th>\n",
       "      <th>horsepower</th>\n",
       "      <th>weight</th>\n",
       "      <th>acceleration</th>\n",
       "      <th>model year</th>\n",
       "      <th>origin</th>\n",
       "      <th>car name</th>\n",
       "    </tr>\n",
       "  </thead>\n",
       "  <tbody>\n",
       "    <tr>\n",
       "      <th>0</th>\n",
       "      <td>18.0</td>\n",
       "      <td>8</td>\n",
       "      <td>307.0</td>\n",
       "      <td>130.0</td>\n",
       "      <td>3504</td>\n",
       "      <td>12.0</td>\n",
       "      <td>70</td>\n",
       "      <td>1</td>\n",
       "      <td>chevrolet chevelle malibu</td>\n",
       "    </tr>\n",
       "    <tr>\n",
       "      <th>1</th>\n",
       "      <td>15.0</td>\n",
       "      <td>8</td>\n",
       "      <td>350.0</td>\n",
       "      <td>165.0</td>\n",
       "      <td>3693</td>\n",
       "      <td>11.5</td>\n",
       "      <td>70</td>\n",
       "      <td>1</td>\n",
       "      <td>buick skylark 320</td>\n",
       "    </tr>\n",
       "    <tr>\n",
       "      <th>2</th>\n",
       "      <td>18.0</td>\n",
       "      <td>8</td>\n",
       "      <td>318.0</td>\n",
       "      <td>150.0</td>\n",
       "      <td>3436</td>\n",
       "      <td>11.0</td>\n",
       "      <td>70</td>\n",
       "      <td>1</td>\n",
       "      <td>plymouth satellite</td>\n",
       "    </tr>\n",
       "    <tr>\n",
       "      <th>3</th>\n",
       "      <td>16.0</td>\n",
       "      <td>8</td>\n",
       "      <td>304.0</td>\n",
       "      <td>150.0</td>\n",
       "      <td>3433</td>\n",
       "      <td>12.0</td>\n",
       "      <td>70</td>\n",
       "      <td>1</td>\n",
       "      <td>amc rebel sst</td>\n",
       "    </tr>\n",
       "    <tr>\n",
       "      <th>4</th>\n",
       "      <td>17.0</td>\n",
       "      <td>8</td>\n",
       "      <td>302.0</td>\n",
       "      <td>140.0</td>\n",
       "      <td>3449</td>\n",
       "      <td>10.5</td>\n",
       "      <td>70</td>\n",
       "      <td>1</td>\n",
       "      <td>ford torino</td>\n",
       "    </tr>\n",
       "    <tr>\n",
       "      <th>...</th>\n",
       "      <td>...</td>\n",
       "      <td>...</td>\n",
       "      <td>...</td>\n",
       "      <td>...</td>\n",
       "      <td>...</td>\n",
       "      <td>...</td>\n",
       "      <td>...</td>\n",
       "      <td>...</td>\n",
       "      <td>...</td>\n",
       "    </tr>\n",
       "    <tr>\n",
       "      <th>393</th>\n",
       "      <td>27.0</td>\n",
       "      <td>4</td>\n",
       "      <td>140.0</td>\n",
       "      <td>86.0</td>\n",
       "      <td>2790</td>\n",
       "      <td>15.6</td>\n",
       "      <td>82</td>\n",
       "      <td>1</td>\n",
       "      <td>ford mustang gl</td>\n",
       "    </tr>\n",
       "    <tr>\n",
       "      <th>394</th>\n",
       "      <td>44.0</td>\n",
       "      <td>4</td>\n",
       "      <td>97.0</td>\n",
       "      <td>52.0</td>\n",
       "      <td>2130</td>\n",
       "      <td>24.6</td>\n",
       "      <td>82</td>\n",
       "      <td>2</td>\n",
       "      <td>vw pickup</td>\n",
       "    </tr>\n",
       "    <tr>\n",
       "      <th>395</th>\n",
       "      <td>32.0</td>\n",
       "      <td>4</td>\n",
       "      <td>135.0</td>\n",
       "      <td>84.0</td>\n",
       "      <td>2295</td>\n",
       "      <td>11.6</td>\n",
       "      <td>82</td>\n",
       "      <td>1</td>\n",
       "      <td>dodge rampage</td>\n",
       "    </tr>\n",
       "    <tr>\n",
       "      <th>396</th>\n",
       "      <td>28.0</td>\n",
       "      <td>4</td>\n",
       "      <td>120.0</td>\n",
       "      <td>79.0</td>\n",
       "      <td>2625</td>\n",
       "      <td>18.6</td>\n",
       "      <td>82</td>\n",
       "      <td>1</td>\n",
       "      <td>ford ranger</td>\n",
       "    </tr>\n",
       "    <tr>\n",
       "      <th>397</th>\n",
       "      <td>31.0</td>\n",
       "      <td>4</td>\n",
       "      <td>119.0</td>\n",
       "      <td>82.0</td>\n",
       "      <td>2720</td>\n",
       "      <td>19.4</td>\n",
       "      <td>82</td>\n",
       "      <td>1</td>\n",
       "      <td>chevy s-10</td>\n",
       "    </tr>\n",
       "  </tbody>\n",
       "</table>\n",
       "<p>392 rows × 9 columns</p>\n",
       "</div>"
      ],
      "text/plain": [
       "      mpg  cylinders  displacement  horsepower  weight  acceleration  \\\n",
       "0    18.0          8         307.0       130.0    3504          12.0   \n",
       "1    15.0          8         350.0       165.0    3693          11.5   \n",
       "2    18.0          8         318.0       150.0    3436          11.0   \n",
       "3    16.0          8         304.0       150.0    3433          12.0   \n",
       "4    17.0          8         302.0       140.0    3449          10.5   \n",
       "..    ...        ...           ...         ...     ...           ...   \n",
       "393  27.0          4         140.0        86.0    2790          15.6   \n",
       "394  44.0          4          97.0        52.0    2130          24.6   \n",
       "395  32.0          4         135.0        84.0    2295          11.6   \n",
       "396  28.0          4         120.0        79.0    2625          18.6   \n",
       "397  31.0          4         119.0        82.0    2720          19.4   \n",
       "\n",
       "     model year  origin                   car name  \n",
       "0            70       1  chevrolet chevelle malibu  \n",
       "1            70       1          buick skylark 320  \n",
       "2            70       1         plymouth satellite  \n",
       "3            70       1              amc rebel sst  \n",
       "4            70       1                ford torino  \n",
       "..          ...     ...                        ...  \n",
       "393          82       1            ford mustang gl  \n",
       "394          82       2                  vw pickup  \n",
       "395          82       1              dodge rampage  \n",
       "396          82       1                ford ranger  \n",
       "397          82       1                 chevy s-10  \n",
       "\n",
       "[392 rows x 9 columns]"
      ]
     },
     "execution_count": 149,
     "metadata": {},
     "output_type": "execute_result"
    }
   ],
   "source": [
    "mpg"
   ]
  },
  {
   "cell_type": "code",
   "execution_count": 169,
   "metadata": {},
   "outputs": [
    {
     "data": {
      "text/plain": [
       "array([[1.300e+02, 3.504e+03, 1.200e+01, ..., 3.070e+02, 1.000e+00,\n",
       "        7.000e+01],\n",
       "       [1.650e+02, 3.693e+03, 1.150e+01, ..., 3.500e+02, 1.000e+00,\n",
       "        7.000e+01],\n",
       "       [1.500e+02, 3.436e+03, 1.100e+01, ..., 3.180e+02, 1.000e+00,\n",
       "        7.000e+01],\n",
       "       ...,\n",
       "       [8.400e+01, 2.295e+03, 1.160e+01, ..., 1.350e+02, 1.000e+00,\n",
       "        8.200e+01],\n",
       "       [7.900e+01, 2.625e+03, 1.860e+01, ..., 1.200e+02, 1.000e+00,\n",
       "        8.200e+01],\n",
       "       [8.200e+01, 2.720e+03, 1.940e+01, ..., 1.190e+02, 1.000e+00,\n",
       "        8.200e+01]])"
      ]
     },
     "execution_count": 169,
     "metadata": {},
     "output_type": "execute_result"
    }
   ],
   "source": [
    "X = mpg[['horsepower', 'weight', 'acceleration', 'cylinders', 'displacement', 'origin', 'model year']].to_numpy()\n",
    "X"
   ]
  },
  {
   "cell_type": "code",
   "execution_count": 170,
   "metadata": {},
   "outputs": [
    {
     "data": {
      "text/plain": [
       "array([18. , 15. , 18. , 16. , 17. , 15. , 14. , 14. , 14. , 15. , 15. ,\n",
       "       14. , 15. , 14. , 24. , 22. , 18. , 21. , 27. , 26. , 25. , 24. ,\n",
       "       25. , 26. , 21. , 10. , 10. , 11. ,  9. , 27. , 28. , 25. , 19. ,\n",
       "       16. , 17. , 19. , 18. , 14. , 14. , 14. , 14. , 12. , 13. , 13. ,\n",
       "       18. , 22. , 19. , 18. , 23. , 28. , 30. , 30. , 31. , 35. , 27. ,\n",
       "       26. , 24. , 25. , 23. , 20. , 21. , 13. , 14. , 15. , 14. , 17. ,\n",
       "       11. , 13. , 12. , 13. , 19. , 15. , 13. , 13. , 14. , 18. , 22. ,\n",
       "       21. , 26. , 22. , 28. , 23. , 28. , 27. , 13. , 14. , 13. , 14. ,\n",
       "       15. , 12. , 13. , 13. , 14. , 13. , 12. , 13. , 18. , 16. , 18. ,\n",
       "       18. , 23. , 26. , 11. , 12. , 13. , 12. , 18. , 20. , 21. , 22. ,\n",
       "       18. , 19. , 21. , 26. , 15. , 16. , 29. , 24. , 20. , 19. , 15. ,\n",
       "       24. , 20. , 11. , 20. , 19. , 15. , 31. , 26. , 32. , 25. , 16. ,\n",
       "       16. , 18. , 16. , 13. , 14. , 14. , 14. , 29. , 26. , 26. , 31. ,\n",
       "       32. , 28. , 24. , 26. , 24. , 26. , 31. , 19. , 18. , 15. , 15. ,\n",
       "       16. , 15. , 16. , 14. , 17. , 16. , 15. , 18. , 21. , 20. , 13. ,\n",
       "       29. , 23. , 20. , 23. , 24. , 25. , 24. , 18. , 29. , 19. , 23. ,\n",
       "       23. , 22. , 25. , 33. , 28. , 25. , 25. , 26. , 27. , 17.5, 16. ,\n",
       "       15.5, 14.5, 22. , 22. , 24. , 22.5, 29. , 24.5, 29. , 33. , 20. ,\n",
       "       18. , 18.5, 17.5, 29.5, 32. , 28. , 26.5, 20. , 13. , 19. , 19. ,\n",
       "       16.5, 16.5, 13. , 13. , 13. , 31.5, 30. , 36. , 25.5, 33.5, 17.5,\n",
       "       17. , 15.5, 15. , 17.5, 20.5, 19. , 18.5, 16. , 15.5, 15.5, 16. ,\n",
       "       29. , 24.5, 26. , 25.5, 30.5, 33.5, 30. , 30.5, 22. , 21.5, 21.5,\n",
       "       43.1, 36.1, 32.8, 39.4, 36.1, 19.9, 19.4, 20.2, 19.2, 20.5, 20.2,\n",
       "       25.1, 20.5, 19.4, 20.6, 20.8, 18.6, 18.1, 19.2, 17.7, 18.1, 17.5,\n",
       "       30. , 27.5, 27.2, 30.9, 21.1, 23.2, 23.8, 23.9, 20.3, 17. , 21.6,\n",
       "       16.2, 31.5, 29.5, 21.5, 19.8, 22.3, 20.2, 20.6, 17. , 17.6, 16.5,\n",
       "       18.2, 16.9, 15.5, 19.2, 18.5, 31.9, 34.1, 35.7, 27.4, 25.4, 23. ,\n",
       "       27.2, 23.9, 34.2, 34.5, 31.8, 37.3, 28.4, 28.8, 26.8, 33.5, 41.5,\n",
       "       38.1, 32.1, 37.2, 28. , 26.4, 24.3, 19.1, 34.3, 29.8, 31.3, 37. ,\n",
       "       32.2, 46.6, 27.9, 40.8, 44.3, 43.4, 36.4, 30. , 44.6, 33.8, 29.8,\n",
       "       32.7, 23.7, 35. , 32.4, 27.2, 26.6, 25.8, 23.5, 30. , 39.1, 39. ,\n",
       "       35.1, 32.3, 37. , 37.7, 34.1, 34.7, 34.4, 29.9, 33. , 33.7, 32.4,\n",
       "       32.9, 31.6, 28.1, 30.7, 25.4, 24.2, 22.4, 26.6, 20.2, 17.6, 28. ,\n",
       "       27. , 34. , 31. , 29. , 27. , 24. , 36. , 37. , 31. , 38. , 36. ,\n",
       "       36. , 36. , 34. , 38. , 32. , 38. , 25. , 38. , 26. , 22. , 32. ,\n",
       "       36. , 27. , 27. , 44. , 32. , 28. , 31. ])"
      ]
     },
     "execution_count": 170,
     "metadata": {},
     "output_type": "execute_result"
    }
   ],
   "source": [
    "y = mpg['mpg'].to_numpy()\n",
    "y"
   ]
  },
  {
   "cell_type": "code",
   "execution_count": 171,
   "metadata": {},
   "outputs": [],
   "source": [
    "# 데이터 나누기\n",
    "\n",
    "from sklearn.model_selection import train_test_split\n",
    "X_train, X_test, y_train, y_test = train_test_split(X, y, test_size=0.3, random_state=42)"
   ]
  },
  {
   "cell_type": "code",
   "execution_count": 172,
   "metadata": {},
   "outputs": [
    {
     "data": {
      "text/plain": [
       "array([22. , 21. , 37. , 21. , 15. , 31. , 23. , 24.5, 29. , 30.5, 15. ,\n",
       "       34.7, 27. , 28. , 19. , 41.5, 17.5, 29. , 26. , 31.8, 18. , 16.5,\n",
       "       13. , 19. , 30. , 20. , 19. , 27. , 23. , 14. , 20.6, 27.9, 15. ,\n",
       "       32. , 12. , 23. , 33.5, 25.5, 40.8, 16.5, 32.3, 44.3, 12. , 32.8,\n",
       "       24. , 18.1, 14. , 13. , 11. , 18. , 32. , 27.2, 16. , 17.5, 12. ,\n",
       "       26. , 14. , 28. , 20. , 13. , 27.2, 29. , 19.1, 28. , 27. , 19. ,\n",
       "       26. , 15.5, 13. , 38. , 18. , 23.7, 24.5, 34. , 23. , 26. , 33. ,\n",
       "       29.5, 15. , 24. , 32. , 14. , 14. , 39.1, 17.5, 17. , 21. , 33. ,\n",
       "       25.8, 20.3, 24. , 20.2, 23.9, 34. , 20.2, 28.1, 13. , 39.4, 14. ,\n",
       "       16. , 18.5, 20. , 32. , 18. , 26.5, 16. , 16. , 29. , 10. , 15. ,\n",
       "       46.6, 20.5, 37. , 17.7, 44.6, 23.5, 31. , 14. , 29.8, 27. , 27. ,\n",
       "       43.4, 20. , 36. , 20.2, 18. , 27. , 17.6, 18. , 38. , 17. , 18.5,\n",
       "       14. , 43.1, 16. , 19. , 16. , 15. , 19. ,  9. , 25. , 31. , 26.4,\n",
       "       27.2, 15.5, 13. , 30. , 21.5, 34.1, 23.9, 25. , 12. , 28.8, 13. ,\n",
       "       20.5, 36.4, 17. , 20.6, 33.7, 23. , 18.5, 26.6, 13. , 24. , 18. ,\n",
       "       30. , 13. , 18. , 19. , 30.9, 17.5, 28. , 11. , 33. , 16. , 19.2,\n",
       "       15.5, 21. , 32.4, 14. , 14. , 13. , 26. , 14. , 14. , 34.5, 24. ,\n",
       "       16. , 14. , 22.4, 31.3, 36. , 19.8, 30. , 33.5, 19. , 13. , 25.4,\n",
       "       25.4, 20.5, 26. , 24.2, 28.4, 23.2, 29.5, 18. , 13. , 25.5, 22. ,\n",
       "       32.1, 18.1, 12. , 35. , 15. , 28. , 28. , 20. , 17. , 17.5, 13. ,\n",
       "       31. , 30. , 21.5, 14. , 34.3, 15. , 17. , 23. , 33.8, 36. , 16. ,\n",
       "       33.5, 36. , 32.2, 36.1, 27. , 30. , 19. , 22. , 32. , 15.5, 24. ,\n",
       "       23. , 23. , 37.7, 30.5, 20.2, 24. , 24.3, 15. , 31.5, 24. , 35.7,\n",
       "       37. , 20.8, 38.1, 31. , 25. , 18. , 26.6, 18. , 38. , 14. , 32.7,\n",
       "       31.5, 24. , 31. , 25. , 14.5, 15. , 18. , 23.8, 29.9, 11. ])"
      ]
     },
     "execution_count": 172,
     "metadata": {},
     "output_type": "execute_result"
    }
   ],
   "source": [
    "y_train"
   ]
  },
  {
   "cell_type": "markdown",
   "metadata": {},
   "source": [
    "### 선형회귀모델"
   ]
  },
  {
   "cell_type": "code",
   "execution_count": 173,
   "metadata": {},
   "outputs": [
    {
     "data": {
      "text/plain": [
       "LinearRegression()"
      ]
     },
     "execution_count": 173,
     "metadata": {},
     "output_type": "execute_result"
    }
   ],
   "source": [
    "from sklearn.linear_model import LinearRegression\n",
    "lr = LinearRegression()\n",
    "lr.fit(X_train, y_train)"
   ]
  },
  {
   "cell_type": "code",
   "execution_count": 174,
   "metadata": {},
   "outputs": [
    {
     "data": {
      "text/plain": [
       "(array([-0.02806989, -0.00600577,  0.04119833, -0.35963797,  0.01579344,\n",
       "         1.67379885,  0.742086  ]),\n",
       " -16.36825980471729)"
      ]
     },
     "execution_count": 174,
     "metadata": {},
     "output_type": "execute_result"
    }
   ],
   "source": [
    "lr.coef_, lr.intercept_"
   ]
  },
  {
   "cell_type": "code",
   "execution_count": 175,
   "metadata": {},
   "outputs": [
    {
     "name": "stdout",
     "output_type": "stream",
     "text": [
      "0.8221075220232332\n",
      "0.809736127618413\n"
     ]
    }
   ],
   "source": [
    "print(lr.score(X_train, y_train))\n",
    "print(lr.score(X_test, y_test))"
   ]
  },
  {
   "cell_type": "code",
   "execution_count": 176,
   "metadata": {},
   "outputs": [
    {
     "data": {
      "text/plain": [
       "array([[1.000e+00, 9.400e+01, 2.379e+03, ..., 9.000e+00, 2.190e+02,\n",
       "        5.329e+03],\n",
       "       [1.000e+00, 8.500e+01, 2.587e+03, ..., 1.000e+00, 7.000e+01,\n",
       "        4.900e+03],\n",
       "       [1.000e+00, 9.200e+01, 2.434e+03, ..., 9.000e+00, 2.400e+02,\n",
       "        6.400e+03],\n",
       "       ...,\n",
       "       [1.000e+00, 8.500e+01, 2.855e+03, ..., 1.000e+00, 7.800e+01,\n",
       "        6.084e+03],\n",
       "       [1.000e+00, 6.500e+01, 2.380e+03, ..., 1.000e+00, 8.100e+01,\n",
       "        6.561e+03],\n",
       "       [1.000e+00, 1.500e+02, 4.997e+03, ..., 1.000e+00, 7.300e+01,\n",
       "        5.329e+03]])"
      ]
     },
     "execution_count": 176,
     "metadata": {},
     "output_type": "execute_result"
    }
   ],
   "source": [
    "from sklearn.preprocessing import PolynomialFeatures\n",
    "\n",
    "poly = PolynomialFeatures()\n",
    "poly.fit(X_train)\n",
    "X_train_poly = poly.transform(X_train)\n",
    "X_train_poly"
   ]
  },
  {
   "cell_type": "code",
   "execution_count": 177,
   "metadata": {},
   "outputs": [
    {
     "name": "stdout",
     "output_type": "stream",
     "text": [
      "(274, 36)\n"
     ]
    }
   ],
   "source": [
    "print(X_train_poly.shape)"
   ]
  },
  {
   "cell_type": "code",
   "execution_count": 178,
   "metadata": {},
   "outputs": [],
   "source": [
    "X_test_poly = poly.transform(X_test)"
   ]
  },
  {
   "cell_type": "code",
   "execution_count": 179,
   "metadata": {},
   "outputs": [
    {
     "data": {
      "text/plain": [
       "array([[6.900e+01, 2.189e+03, 1.800e+01, 4.000e+00, 9.600e+01, 2.000e+00,\n",
       "        7.200e+01],\n",
       "       [1.150e+02, 2.795e+03, 1.570e+01, 4.000e+00, 1.210e+02, 2.000e+00,\n",
       "        7.800e+01],\n",
       "       [6.000e+01, 1.800e+03, 1.640e+01, 4.000e+00, 9.100e+01, 3.000e+00,\n",
       "        7.800e+01],\n",
       "       [7.000e+01, 1.955e+03, 2.050e+01, 4.000e+00, 9.100e+01, 1.000e+00,\n",
       "        7.100e+01],\n",
       "       [8.600e+01, 2.790e+03, 1.560e+01, 4.000e+00, 1.400e+02, 1.000e+00,\n",
       "        8.200e+01],\n",
       "       [7.500e+01, 2.155e+03, 1.640e+01, 4.000e+00, 9.700e+01, 3.000e+00,\n",
       "        7.600e+01],\n",
       "       [1.700e+02, 4.746e+03, 1.200e+01, 8.000e+00, 4.000e+02, 1.000e+00,\n",
       "        7.100e+01],\n",
       "       [7.500e+01, 2.265e+03, 1.820e+01, 4.000e+00, 9.700e+01, 3.000e+00,\n",
       "        7.700e+01],\n",
       "       [9.500e+01, 3.264e+03, 1.600e+01, 6.000e+00, 2.250e+02, 1.000e+00,\n",
       "        7.500e+01],\n",
       "       [4.900e+01, 1.867e+03, 1.950e+01, 4.000e+00, 6.800e+01, 2.000e+00,\n",
       "        7.300e+01],\n",
       "       [1.900e+02, 3.850e+03, 8.500e+00, 8.000e+00, 3.900e+02, 1.000e+00,\n",
       "        7.000e+01],\n",
       "       [1.080e+02, 2.930e+03, 1.550e+01, 6.000e+00, 1.560e+02, 3.000e+00,\n",
       "        7.600e+01],\n",
       "       [1.550e+02, 4.360e+03, 1.490e+01, 8.000e+00, 3.500e+02, 1.000e+00,\n",
       "        7.900e+01],\n",
       "       [7.500e+01, 2.171e+03, 1.600e+01, 4.000e+00, 9.700e+01, 3.000e+00,\n",
       "        7.500e+01],\n",
       "       [1.330e+02, 3.410e+03, 1.580e+01, 6.000e+00, 1.630e+02, 2.000e+00,\n",
       "        7.800e+01],\n",
       "       [8.800e+01, 2.605e+03, 1.960e+01, 4.000e+00, 1.120e+02, 1.000e+00,\n",
       "        8.200e+01],\n",
       "       [9.500e+01, 3.102e+03, 1.650e+01, 6.000e+00, 1.980e+02, 1.000e+00,\n",
       "        7.400e+01],\n",
       "       [7.500e+01, 2.350e+03, 1.680e+01, 4.000e+00, 1.080e+02, 3.000e+00,\n",
       "        8.100e+01],\n",
       "       [8.000e+01, 2.670e+03, 1.500e+01, 4.000e+00, 1.210e+02, 1.000e+00,\n",
       "        7.900e+01],\n",
       "       [8.800e+01, 2.500e+03, 1.510e+01, 4.000e+00, 1.220e+02, 2.000e+00,\n",
       "        8.000e+01],\n",
       "       [9.500e+01, 2.833e+03, 1.550e+01, 6.000e+00, 1.980e+02, 1.000e+00,\n",
       "        7.000e+01],\n",
       "       [5.200e+01, 2.130e+03, 2.460e+01, 4.000e+00, 9.700e+01, 2.000e+00,\n",
       "        8.200e+01],\n",
       "       [6.800e+01, 1.985e+03, 1.600e+01, 4.000e+00, 9.100e+01, 3.000e+00,\n",
       "        8.100e+01],\n",
       "       [1.300e+02, 3.504e+03, 1.200e+01, 8.000e+00, 3.070e+02, 1.000e+00,\n",
       "        7.000e+01],\n",
       "       [6.700e+01, 1.963e+03, 1.550e+01, 4.000e+00, 7.900e+01, 2.000e+00,\n",
       "        7.400e+01],\n",
       "       [9.000e+01, 2.265e+03, 1.550e+01, 4.000e+00, 9.800e+01, 2.000e+00,\n",
       "        7.300e+01],\n",
       "       [8.700e+01, 2.979e+03, 1.950e+01, 4.000e+00, 1.200e+02, 2.000e+00,\n",
       "        7.200e+01],\n",
       "       [1.050e+02, 3.439e+03, 1.550e+01, 6.000e+00, 2.250e+02, 1.000e+00,\n",
       "        7.100e+01],\n",
       "       [4.600e+01, 1.950e+03, 2.100e+01, 4.000e+00, 9.700e+01, 2.000e+00,\n",
       "        7.300e+01],\n",
       "       [7.600e+01, 2.511e+03, 1.800e+01, 4.000e+00, 1.210e+02, 2.000e+00,\n",
       "        7.200e+01],\n",
       "       [1.450e+02, 4.440e+03, 1.400e+01, 8.000e+00, 3.500e+02, 1.000e+00,\n",
       "        7.500e+01],\n",
       "       [9.000e+01, 3.210e+03, 1.720e+01, 6.000e+00, 2.320e+02, 1.000e+00,\n",
       "        7.800e+01],\n",
       "       [1.250e+02, 3.605e+03, 1.500e+01, 8.000e+00, 2.670e+02, 1.000e+00,\n",
       "        7.900e+01],\n",
       "       [7.400e+01, 2.635e+03, 1.830e+01, 4.000e+00, 1.200e+02, 3.000e+00,\n",
       "        8.100e+01],\n",
       "       [1.500e+02, 4.464e+03, 1.200e+01, 8.000e+00, 4.000e+02, 1.000e+00,\n",
       "        7.300e+01],\n",
       "       [6.700e+01, 1.995e+03, 1.620e+01, 4.000e+00, 9.100e+01, 3.000e+00,\n",
       "        8.200e+01],\n",
       "       [1.400e+02, 4.638e+03, 1.600e+01, 8.000e+00, 3.020e+02, 1.000e+00,\n",
       "        7.400e+01],\n",
       "       [8.000e+01, 2.126e+03, 1.700e+01, 4.000e+00, 9.750e+01, 1.000e+00,\n",
       "        7.200e+01],\n",
       "       [1.400e+02, 4.294e+03, 1.600e+01, 8.000e+00, 3.020e+02, 1.000e+00,\n",
       "        7.200e+01],\n",
       "       [2.150e+02, 4.615e+03, 1.400e+01, 8.000e+00, 3.600e+02, 1.000e+00,\n",
       "        7.000e+01],\n",
       "       [1.300e+02, 4.098e+03, 1.400e+01, 8.000e+00, 3.070e+02, 1.000e+00,\n",
       "        7.200e+01],\n",
       "       [7.500e+01, 2.108e+03, 1.550e+01, 4.000e+00, 9.000e+01, 2.000e+00,\n",
       "        7.400e+01],\n",
       "       [7.400e+01, 1.980e+03, 1.530e+01, 4.000e+00, 1.050e+02, 2.000e+00,\n",
       "        8.200e+01],\n",
       "       [7.800e+01, 2.300e+03, 1.450e+01, 4.000e+00, 9.700e+01, 2.000e+00,\n",
       "        7.400e+01],\n",
       "       [1.480e+02, 4.657e+03, 1.350e+01, 8.000e+00, 3.510e+02, 1.000e+00,\n",
       "        7.500e+01],\n",
       "       [2.150e+02, 4.735e+03, 1.100e+01, 8.000e+00, 4.400e+02, 1.000e+00,\n",
       "        7.300e+01],\n",
       "       [1.000e+02, 3.282e+03, 1.500e+01, 6.000e+00, 2.500e+02, 1.000e+00,\n",
       "        7.100e+01],\n",
       "       [6.900e+01, 2.130e+03, 1.470e+01, 4.000e+00, 9.100e+01, 2.000e+00,\n",
       "        7.900e+01],\n",
       "       [7.200e+01, 2.401e+03, 1.950e+01, 4.000e+00, 1.400e+02, 1.000e+00,\n",
       "        7.300e+01],\n",
       "       [7.000e+01, 1.937e+03, 1.420e+01, 4.000e+00, 9.000e+01, 2.000e+00,\n",
       "        7.600e+01],\n",
       "       [1.530e+02, 4.154e+03, 1.350e+01, 8.000e+00, 3.510e+02, 1.000e+00,\n",
       "        7.100e+01],\n",
       "       [9.500e+01, 2.278e+03, 1.550e+01, 4.000e+00, 1.130e+02, 3.000e+00,\n",
       "        7.200e+01],\n",
       "       [9.000e+01, 2.264e+03, 1.550e+01, 4.000e+00, 1.400e+02, 1.000e+00,\n",
       "        7.100e+01],\n",
       "       [8.800e+01, 2.160e+03, 1.450e+01, 4.000e+00, 1.200e+02, 3.000e+00,\n",
       "        8.200e+01],\n",
       "       [1.120e+02, 2.835e+03, 1.470e+01, 6.000e+00, 2.320e+02, 1.000e+00,\n",
       "        8.200e+01],\n",
       "       [1.100e+02, 3.632e+03, 1.800e+01, 6.000e+00, 2.580e+02, 1.000e+00,\n",
       "        7.400e+01],\n",
       "       [1.100e+02, 3.221e+03, 1.350e+01, 8.000e+00, 2.620e+02, 1.000e+00,\n",
       "        7.500e+01],\n",
       "       [1.000e+02, 2.914e+03, 1.600e+01, 6.000e+00, 2.320e+02, 1.000e+00,\n",
       "        7.500e+01],\n",
       "       [9.500e+01, 2.375e+03, 1.750e+01, 4.000e+00, 1.040e+02, 2.000e+00,\n",
       "        7.000e+01],\n",
       "       [9.500e+01, 2.228e+03, 1.400e+01, 4.000e+00, 1.130e+02, 3.000e+00,\n",
       "        7.100e+01],\n",
       "       [2.250e+02, 4.951e+03, 1.100e+01, 8.000e+00, 4.550e+02, 1.000e+00,\n",
       "        7.300e+01],\n",
       "       [9.000e+01, 3.085e+03, 1.760e+01, 6.000e+00, 2.320e+02, 1.000e+00,\n",
       "        7.600e+01],\n",
       "       [1.150e+02, 2.700e+03, 1.290e+01, 6.000e+00, 1.730e+02, 1.000e+00,\n",
       "        7.900e+01],\n",
       "       [8.800e+01, 2.957e+03, 1.700e+01, 4.000e+00, 1.200e+02, 2.000e+00,\n",
       "        7.500e+01],\n",
       "       [9.500e+01, 2.515e+03, 1.480e+01, 4.000e+00, 1.340e+02, 3.000e+00,\n",
       "        7.800e+01],\n",
       "       [8.100e+01, 2.220e+03, 1.690e+01, 4.000e+00, 1.160e+02, 2.000e+00,\n",
       "        7.600e+01],\n",
       "       [8.800e+01, 2.720e+03, 1.540e+01, 4.000e+00, 1.400e+02, 1.000e+00,\n",
       "        7.800e+01],\n",
       "       [7.000e+01, 1.937e+03, 1.400e+01, 4.000e+00, 9.000e+01, 2.000e+00,\n",
       "        7.500e+01],\n",
       "       [1.100e+02, 3.365e+03, 1.550e+01, 8.000e+00, 2.600e+02, 1.000e+00,\n",
       "        7.800e+01],\n",
       "       [1.980e+02, 4.341e+03, 1.000e+01, 8.000e+00, 4.290e+02, 1.000e+00,\n",
       "        7.000e+01],\n",
       "       [7.200e+01, 2.408e+03, 1.900e+01, 4.000e+00, 1.400e+02, 1.000e+00,\n",
       "        7.100e+01],\n",
       "       [1.750e+02, 4.100e+03, 1.300e+01, 8.000e+00, 3.500e+02, 1.000e+00,\n",
       "        7.300e+01],\n",
       "       [9.700e+01, 2.815e+03, 1.450e+01, 6.000e+00, 1.460e+02, 3.000e+00,\n",
       "        7.700e+01],\n",
       "       [9.000e+01, 2.124e+03, 1.350e+01, 3.000e+00, 7.000e+01, 3.000e+00,\n",
       "        7.300e+01],\n",
       "       [8.500e+01, 3.465e+03, 1.660e+01, 6.000e+00, 2.250e+02, 1.000e+00,\n",
       "        8.100e+01],\n",
       "       [8.000e+01, 2.164e+03, 1.500e+01, 4.000e+00, 9.800e+01, 1.000e+00,\n",
       "        7.200e+01],\n",
       "       [1.450e+02, 4.082e+03, 1.300e+01, 8.000e+00, 3.500e+02, 1.000e+00,\n",
       "        7.300e+01],\n",
       "       [1.500e+02, 3.433e+03, 1.200e+01, 8.000e+00, 3.040e+02, 1.000e+00,\n",
       "        7.000e+01],\n",
       "       [8.800e+01, 2.130e+03, 1.450e+01, 4.000e+00, 9.700e+01, 3.000e+00,\n",
       "        7.000e+01],\n",
       "       [1.100e+02, 3.620e+03, 1.870e+01, 6.000e+00, 2.250e+02, 1.000e+00,\n",
       "        7.800e+01],\n",
       "       [9.200e+01, 2.572e+03, 1.490e+01, 4.000e+00, 1.400e+02, 1.000e+00,\n",
       "        7.600e+01],\n",
       "       [9.700e+01, 2.984e+03, 1.450e+01, 6.000e+00, 1.710e+02, 1.000e+00,\n",
       "        7.500e+01],\n",
       "       [1.500e+02, 4.135e+03, 1.350e+01, 8.000e+00, 3.180e+02, 1.000e+00,\n",
       "        7.200e+01],\n",
       "       [6.400e+01, 1.875e+03, 1.640e+01, 4.000e+00, 8.600e+01, 1.000e+00,\n",
       "        8.100e+01],\n",
       "       [1.900e+02, 4.325e+03, 1.220e+01, 8.000e+00, 4.000e+02, 1.000e+00,\n",
       "        7.700e+01],\n",
       "       [6.200e+01, 1.845e+03, 1.530e+01, 4.000e+00, 8.900e+01, 2.000e+00,\n",
       "        8.000e+01],\n",
       "       [1.100e+02, 2.945e+03, 1.640e+01, 6.000e+00, 1.810e+02, 1.000e+00,\n",
       "        8.200e+01],\n",
       "       [1.150e+02, 3.245e+03, 1.540e+01, 6.000e+00, 2.310e+02, 1.000e+00,\n",
       "        7.900e+01],\n",
       "       [1.100e+02, 4.060e+03, 1.900e+01, 8.000e+00, 2.600e+02, 1.000e+00,\n",
       "        7.700e+01],\n",
       "       [1.000e+02, 3.781e+03, 1.700e+01, 6.000e+00, 2.500e+02, 1.000e+00,\n",
       "        7.400e+01],\n",
       "       [8.800e+01, 2.890e+03, 1.730e+01, 4.000e+00, 1.400e+02, 1.000e+00,\n",
       "        7.900e+01],\n",
       "       [7.600e+01, 3.160e+03, 1.960e+01, 6.000e+00, 1.450e+02, 2.000e+00,\n",
       "        8.100e+01],\n",
       "       [6.700e+01, 1.985e+03, 1.640e+01, 4.000e+00, 9.700e+01, 3.000e+00,\n",
       "        7.700e+01],\n",
       "       [8.500e+01, 2.575e+03, 1.620e+01, 4.000e+00, 1.120e+02, 1.000e+00,\n",
       "        8.200e+01],\n",
       "       [1.050e+02, 3.535e+03, 1.920e+01, 6.000e+00, 2.310e+02, 1.000e+00,\n",
       "        7.800e+01],\n",
       "       [1.200e+02, 3.820e+03, 1.670e+01, 6.000e+00, 1.680e+02, 2.000e+00,\n",
       "        7.600e+01],\n",
       "       [1.120e+02, 2.933e+03, 1.450e+01, 4.000e+00, 1.210e+02, 2.000e+00,\n",
       "        7.200e+01],\n",
       "       [1.700e+02, 4.654e+03, 1.300e+01, 8.000e+00, 3.600e+02, 1.000e+00,\n",
       "        7.300e+01],\n",
       "       [9.500e+01, 2.560e+03, 1.420e+01, 4.000e+00, 1.340e+02, 3.000e+00,\n",
       "        7.800e+01],\n",
       "       [9.700e+01, 2.774e+03, 1.550e+01, 6.000e+00, 1.990e+02, 1.000e+00,\n",
       "        7.000e+01],\n",
       "       [2.080e+02, 4.633e+03, 1.100e+01, 8.000e+00, 4.290e+02, 1.000e+00,\n",
       "        7.200e+01],\n",
       "       [1.100e+02, 3.907e+03, 2.100e+01, 6.000e+00, 2.310e+02, 1.000e+00,\n",
       "        7.500e+01],\n",
       "       [2.150e+02, 4.312e+03, 8.500e+00, 8.000e+00, 4.400e+02, 1.000e+00,\n",
       "        7.000e+01],\n",
       "       [4.600e+01, 1.835e+03, 2.050e+01, 4.000e+00, 9.700e+01, 2.000e+00,\n",
       "        7.000e+01],\n",
       "       [7.000e+01, 2.200e+03, 1.320e+01, 4.000e+00, 1.050e+02, 1.000e+00,\n",
       "        7.900e+01],\n",
       "       [6.500e+01, 2.045e+03, 1.620e+01, 4.000e+00, 9.800e+01, 1.000e+00,\n",
       "        8.100e+01],\n",
       "       [6.000e+01, 1.760e+03, 1.610e+01, 4.000e+00, 8.100e+01, 3.000e+00,\n",
       "        8.100e+01],\n",
       "       [9.100e+01, 2.582e+03, 1.400e+01, 4.000e+00, 1.140e+02, 2.000e+00,\n",
       "        7.300e+01],\n",
       "       [9.800e+01, 2.945e+03, 1.450e+01, 4.000e+00, 1.210e+02, 2.000e+00,\n",
       "        7.500e+01],\n",
       "       [1.350e+02, 3.830e+03, 1.520e+01, 8.000e+00, 3.180e+02, 1.000e+00,\n",
       "        7.900e+01],\n",
       "       [6.700e+01, 1.965e+03, 1.570e+01, 4.000e+00, 9.100e+01, 3.000e+00,\n",
       "        8.200e+01],\n",
       "       [7.100e+01, 1.925e+03, 1.400e+01, 4.000e+00, 8.900e+01, 2.000e+00,\n",
       "        7.900e+01],\n",
       "       [8.600e+01, 2.226e+03, 1.650e+01, 4.000e+00, 1.220e+02, 1.000e+00,\n",
       "        7.200e+01],\n",
       "       [8.600e+01, 2.395e+03, 1.600e+01, 4.000e+00, 1.220e+02, 1.000e+00,\n",
       "        7.200e+01],\n",
       "       [6.500e+01, 2.019e+03, 1.640e+01, 4.000e+00, 8.600e+01, 3.000e+00,\n",
       "        8.000e+01],\n",
       "       [1.000e+02, 2.615e+03, 1.480e+01, 4.000e+00, 1.190e+02, 3.000e+00,\n",
       "        8.100e+01],\n",
       "       [1.400e+02, 3.735e+03, 1.320e+01, 8.000e+00, 3.180e+02, 1.000e+00,\n",
       "        7.800e+01],\n",
       "       [7.200e+01, 3.158e+03, 1.950e+01, 6.000e+00, 2.500e+02, 1.000e+00,\n",
       "        7.500e+01]])"
      ]
     },
     "execution_count": 179,
     "metadata": {},
     "output_type": "execute_result"
    }
   ],
   "source": [
    "X_test"
   ]
  },
  {
   "cell_type": "code",
   "execution_count": 180,
   "metadata": {},
   "outputs": [
    {
     "data": {
      "text/plain": [
       "LinearRegression()"
      ]
     },
     "execution_count": 180,
     "metadata": {},
     "output_type": "execute_result"
    }
   ],
   "source": [
    "from sklearn.linear_model import LinearRegression\n",
    "\n",
    "lr = LinearRegression()\n",
    "lr.fit(X_train_poly, y_train)"
   ]
  },
  {
   "cell_type": "code",
   "execution_count": 181,
   "metadata": {},
   "outputs": [
    {
     "name": "stdout",
     "output_type": "stream",
     "text": [
      "0.8510696099756478\n",
      "0.808498164654246\n"
     ]
    }
   ],
   "source": [
    "print(lr.score(X_train_poly, y_train))\n",
    "print(lr.score(X_test_poly, y_test))"
   ]
  },
  {
   "cell_type": "markdown",
   "metadata": {},
   "source": [
    "## 특성 스케일링"
   ]
  },
  {
   "cell_type": "code",
   "execution_count": 182,
   "metadata": {},
   "outputs": [],
   "source": [
    "from sklearn.preprocessing import StandardScaler\n",
    "\n",
    "ss = StandardScaler()\n",
    "ss.fit(X_train_poly) # 훈련 데이터로 한번만 fit진행. 테스트 데이터는 fit이 아닌 transform을 적용\n",
    "\n",
    "X_train_scaled = ss.transform(X_train_poly)\n",
    "X_test_scaled = ss.transform(X_test_poly)"
   ]
  },
  {
   "cell_type": "code",
   "execution_count": 183,
   "metadata": {},
   "outputs": [
    {
     "data": {
      "text/plain": [
       "LinearRegression()"
      ]
     },
     "execution_count": 183,
     "metadata": {},
     "output_type": "execute_result"
    }
   ],
   "source": [
    "from sklearn.linear_model import LinearRegression\n",
    "\n",
    "lr = LinearRegression()\n",
    "lr.fit(X_train_scaled, y_train)"
   ]
  },
  {
   "cell_type": "code",
   "execution_count": 184,
   "metadata": {},
   "outputs": [
    {
     "name": "stdout",
     "output_type": "stream",
     "text": [
      "0.9005044851184083\n",
      "0.8554494501685244\n"
     ]
    }
   ],
   "source": [
    "print(lr.score(X_train_scaled, y_train))\n",
    "print(lr.score(X_test_scaled, y_test))"
   ]
  },
  {
   "cell_type": "markdown",
   "metadata": {},
   "source": [
    "## 릿지회귀"
   ]
  },
  {
   "cell_type": "code",
   "execution_count": 185,
   "metadata": {},
   "outputs": [
    {
     "name": "stdout",
     "output_type": "stream",
     "text": [
      "0.8868580881103147\n",
      "0.8506319718264943\n"
     ]
    }
   ],
   "source": [
    "from sklearn.linear_model import Ridge\n",
    "\n",
    "ridge = Ridge()\n",
    "ridge.fit(X_train_scaled, y_train) # 스케일링으로 비율(스케일) 맞춰준 데이터(train_scaled)로 fit 맞추기\n",
    "print(ridge.score(X_train_scaled, y_train))\n",
    "print(ridge.score(X_test_scaled, y_test))"
   ]
  },
  {
   "cell_type": "code",
   "execution_count": 186,
   "metadata": {},
   "outputs": [],
   "source": [
    "# 릿지회귀에서 적정한 alpha값 찾기\n",
    "\n",
    "X_train_score = []\n",
    "X_test_score = []\n",
    "alpha_list = [0.001, 0.01, 0.1, 1, 10, 100] # 적용해볼 alpha값 리스트\n",
    "for alpha in alpha_list:\n",
    "    # 릿지 모델 생성\n",
    "    ridge = Ridge(alpha=alpha)\n",
    "    # 릿지 모델 훈련\n",
    "    ridge.fit(X_train_scaled, y_train)\n",
    "    # 훈련 점수와 테스트 점수 저장\n",
    "    X_train_score.append(ridge.score(X_train_scaled, y_train))\n",
    "    X_test_score.append(ridge.score(X_test_scaled, y_test))"
   ]
  },
  {
   "cell_type": "code",
   "execution_count": 187,
   "metadata": {},
   "outputs": [
    {
     "data": {
      "image/png": "[encoded data removed]",
      "text/plain": [
       "<Figure size 432x288 with 1 Axes>"
      ]
     },
     "metadata": {
      "needs_background": "light"
     },
     "output_type": "display_data"
    }
   ],
   "source": [
    "# 그래프 그리기 (alpha=10일때 가장 가까움)\n",
    "plt.plot(np.log10(alpha_list), X_train_score)\n",
    "plt.plot(np.log10(alpha_list), X_test_score)\n",
    "\n",
    "plt.xlabel('alpha')\n",
    "plt.ylabel('R^2')\n",
    "\n",
    "plt.show()"
   ]
  },
  {
   "cell_type": "code",
   "execution_count": 191,
   "metadata": {},
   "outputs": [
    {
     "name": "stdout",
     "output_type": "stream",
     "text": [
      "0.8734087680299185\n",
      "0.856290599642747\n"
     ]
    }
   ],
   "source": [
    "ridge = Ridge(alpha=10)\n",
    "ridge.fit(X_train_scaled, y_train)\n",
    "print(ridge.score(X_train_scaled, y_train))\n",
    "print(ridge.score(X_test_scaled, y_test))"
   ]
  },
  {
   "cell_type": "markdown",
   "metadata": {},
   "source": [
    "### 라쏘 회귀"
   ]
  },
  {
   "cell_type": "code",
   "execution_count": 188,
   "metadata": {},
   "outputs": [
    {
     "name": "stdout",
     "output_type": "stream",
     "text": [
      "0.8090107526354012\n",
      "0.8240824760515021\n"
     ]
    }
   ],
   "source": [
    "from sklearn.linear_model import Lasso\n",
    "\n",
    "lasso = Lasso()\n",
    "lasso.fit(X_train_scaled, y_train)\n",
    "print(lasso.score(X_train_scaled, y_train))\n",
    "print(lasso.score(X_test_scaled, y_test))"
   ]
  },
  {
   "cell_type": "code",
   "execution_count": 189,
   "metadata": {},
   "outputs": [],
   "source": [
    "# 라쏘회귀에서 적정한 alpha값 찾기\n",
    "\n",
    "train_score = []\n",
    "test_score = []\n",
    "alpha_list = [0.001, 0.01, 0.1, 1, 10, 100] # 적용해볼 alpha값 리스트\n",
    "for alpha in alpha_list:\n",
    "    # 라쏘 모델을 생성\n",
    "    lasso = Lasso(alpha=alpha)\n",
    "    # 라쏘 모델을 훈련\n",
    "    lasso.fit(X_train_scaled, y_train)\n",
    "    # 훈련 점수와 테스트 점수 저장\n",
    "    train_score.append(lasso.score(X_train_scaled, y_train))\n",
    "    test_score.append(lasso.score(X_test_scaled, y_test))"
   ]
  },
  {
   "cell_type": "code",
   "execution_count": 190,
   "metadata": {},
   "outputs": [
    {
     "data": {
      "image/png": "[encoded data removed]",
      "text/plain": [
       "<Figure size 432x288 with 1 Axes>"
      ]
     },
     "metadata": {
      "needs_background": "light"
     },
     "output_type": "display_data"
    }
   ],
   "source": [
    "# alpha=0.1일 때 가장 가까움\n",
    "\n",
    "plt.plot(np.log10(alpha_list), train_score)\n",
    "plt.plot(np.log10(alpha_list), test_score)\n",
    "plt.xlabel('alpha')\n",
    "plt.ylabel('R^2')\n",
    "plt.show()"
   ]
  },
  {
   "cell_type": "code",
   "execution_count": 192,
   "metadata": {},
   "outputs": [
    {
     "name": "stdout",
     "output_type": "stream",
     "text": [
      "0.8565965619782387\n",
      "0.8478647147362735\n"
     ]
    }
   ],
   "source": [
    "lasso = Lasso(alpha=0.1)\n",
    "lasso.fit(X_train_scaled, y_train)\n",
    "print(lasso.score(X_train_scaled, y_train))\n",
    "print(lasso.score(X_test_scaled, y_test))"
   ]
  },
  {
   "cell_type": "markdown",
   "metadata": {},
   "source": [
    "### 결정트리(랜덤서치)모델"
   ]
  },
  {
   "cell_type": "code",
   "execution_count": 196,
   "metadata": {},
   "outputs": [],
   "source": [
    "# 독립변수, 종속변수 가져오기\n",
    "X = mpg[['horsepower', 'weight', 'acceleration', 'cylinders', 'displacement', 'origin', 'model year']]\n",
    "y = mpg['mpg']"
   ]
  },
  {
   "cell_type": "code",
   "execution_count": 198,
   "metadata": {},
   "outputs": [],
   "source": [
    "# 데이터 나누기\n",
    "X_train, X_test, y_train, y_test = train_test_split(\n",
    "    X, y, test_size=0.2, random_state=42)"
   ]
  },
  {
   "cell_type": "code",
   "execution_count": 199,
   "metadata": {},
   "outputs": [
    {
     "data": {
      "text/plain": [
       "RandomizedSearchCV(estimator=DecisionTreeRegressor(random_state=42), n_iter=100,\n",
       "                   n_jobs=-1,\n",
       "                   param_distributions={'max_depth': <scipy.stats._distn_infrastructure.rv_frozen object at 0x0000029902716400>,\n",
       "                                        'min_impurity_decrease': <scipy.stats._distn_infrastructure.rv_frozen object at 0x00000299020D1040>,\n",
       "                                        'min_samples_leaf': <scipy.stats._distn_infrastructure.rv_frozen object at 0x0000029903E0E940>,\n",
       "                                        'min_samples_split': <scipy.stats._distn_infrastructure.rv_frozen object at 0x0000029903EAA190>},\n",
       "                   random_state=42)"
      ]
     },
     "execution_count": 199,
     "metadata": {},
     "output_type": "execute_result"
    }
   ],
   "source": [
    "from sklearn.model_selection import RandomizedSearchCV\n",
    "from scipy.stats import uniform, randint\n",
    "from sklearn.tree import DecisionTreeRegressor\n",
    "\n",
    "params = {'min_impurity_decrease': uniform(0.0001, 0.001),\n",
    "          'max_depth': randint(20, 50),\n",
    "          'min_samples_split': randint(2, 25),\n",
    "          'min_samples_leaf': randint(1, 25),\n",
    "          }\n",
    "\n",
    "gs = RandomizedSearchCV(DecisionTreeRegressor(random_state=42), params, \n",
    "                        n_iter=100, n_jobs=-1, random_state=42)\n",
    "gs.fit(X_train, y_train)"
   ]
  },
  {
   "cell_type": "code",
   "execution_count": 200,
   "metadata": {},
   "outputs": [
    {
     "data": {
      "text/plain": [
       "{'max_depth': 28,\n",
       " 'min_impurity_decrease': 0.000404781258158029,\n",
       " 'min_samples_leaf': 6,\n",
       " 'min_samples_split': 9}"
      ]
     },
     "execution_count": 200,
     "metadata": {},
     "output_type": "execute_result"
    }
   ],
   "source": [
    "gs.best_params_"
   ]
  },
  {
   "cell_type": "code",
   "execution_count": 201,
   "metadata": {},
   "outputs": [
    {
     "data": {
      "text/plain": [
       "0.8170041840670427"
      ]
     },
     "execution_count": 201,
     "metadata": {},
     "output_type": "execute_result"
    }
   ],
   "source": [
    "np.max(gs.cv_results_['mean_test_score'])"
   ]
  },
  {
   "cell_type": "code",
   "execution_count": 202,
   "metadata": {},
   "outputs": [
    {
     "data": {
      "text/plain": [
       "0.8513235594792375"
      ]
     },
     "execution_count": 202,
     "metadata": {},
     "output_type": "execute_result"
    }
   ],
   "source": [
    "dt = gs.best_estimator_\n",
    "\n",
    "dt.score(X_test, y_test)"
   ]
  },
  {
   "cell_type": "markdown",
   "metadata": {},
   "source": [
    "## 결과\n",
    "\n",
    "- 선형회귀 점수 -> train: 85% test: 80%\n",
    "- 스케일링 후 릿지회귀 점수 -> train: 87% test: 85%\n",
    "- 라쏘회귀 점수 -> train: 85% test: 84%\n",
    "- 결정트리(랜덤서치) 점수 -> test: 85%"
   ]
  },
  {
   "cell_type": "markdown",
   "metadata": {},
   "source": []
  }
 ],
 "metadata": {
  "kernelspec": {
   "display_name": "base",
   "language": "python",
   "name": "python3"
  },
  "language_info": {
   "codemirror_mode": {
    "name": "ipython",
    "version": 3
   },
   "file_extension": ".py",
   "mimetype": "text/x-python",
   "name": "python",
   "nbconvert_exporter": "python",
   "pygments_lexer": "ipython3",
   "version": "3.9.12"
  }
 },
 "nbformat": 4,
 "nbformat_minor": 2
}
